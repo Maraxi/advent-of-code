{
 "cells": [
  {
   "cell_type": "code",
   "id": "initial_id",
   "metadata": {
    "collapsed": true
   },
   "source": "from graphviz import Digraph",
   "outputs": [],
   "execution_count": null
  },
  {
   "metadata": {},
   "cell_type": "code",
   "source": [
    "with open(\"../24.input\") as file:\n",
    "    inputs, gates = file.read().strip().split(\"\\n\\n\")\n",
    "gates = gates.split(\"\\n\")"
   ],
   "id": "d16a92538c2e8f42",
   "outputs": [],
   "execution_count": null
  },
  {
   "metadata": {},
   "cell_type": "code",
   "source": [
    "dot = Digraph(engine=\"dot\")\n",
    "\n",
    "for gate in gates:\n",
    "    x,op,y,_,out = gate.split(\" \")\n",
    "    if out[0] == \"z\":\n",
    "        dot.node(out, penwidth=\"3\")\n",
    "    match op:\n",
    "        case \"AND\":\n",
    "            color = \"blue\"\n",
    "        case \"OR\":\n",
    "            color = \"green\"\n",
    "        case \"XOR\":\n",
    "            color = \"red\"\n",
    "\n",
    "    dot.edge(x,out, op, color=color)\n",
    "    dot.edge(y,out, op, color=color)\n",
    "\n",
    "dot.render(view=True)\n",
    "dot"
   ],
   "id": "1c31c1f3b8609018",
   "outputs": [],
   "execution_count": null
  }
 ],
 "metadata": {
  "kernelspec": {
   "display_name": "Python 3",
   "language": "python",
   "name": "python3"
  },
  "language_info": {
   "codemirror_mode": {
    "name": "ipython",
    "version": 2
   },
   "file_extension": ".py",
   "mimetype": "text/x-python",
   "name": "python",
   "nbconvert_exporter": "python",
   "pygments_lexer": "ipython2",
   "version": "2.7.6"
  }
 },
 "nbformat": 4,
 "nbformat_minor": 5
}
