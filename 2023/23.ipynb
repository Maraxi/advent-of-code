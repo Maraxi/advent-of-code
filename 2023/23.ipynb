{
 "cells": [
  {
   "cell_type": "code",
   "source": [
    "from graphviz import Digraph\n",
    "from solution import *\n",
    "from helpers import *\n",
    "data = load(4)\n",
    "g = Grid(data)\n",
    "s = (data[0].index(\".\"), 0)\n",
    "e = (data[-1].index(\".\"), g.h - 1)\n",
    "inter, trans = dag(g, s, e, True)\n",
    "pass"
   ],
   "metadata": {
    "collapsed": false
   },
   "id": "9b0c846974b7232e",
   "outputs": [],
   "execution_count": null
  },
  {
   "cell_type": "code",
   "source": [
    "dot = Digraph(engine = \"neato\")\n",
    "\n",
    "for i in range(len(trans)):\n",
    "    dot.node(f\"{i}\")\n",
    "for i, dic in enumerate(trans):\n",
    "    for j in dic:\n",
    "        dot.edge(f\"{i}\", f\"{j}\")\n",
    "dot.render(view=True)\n",
    "dot"
   ],
   "metadata": {
    "collapsed": false
   },
   "id": "7961b1e370b55468",
   "outputs": [],
   "execution_count": null
  }
 ],
 "metadata": {
  "kernelspec": {
   "display_name": "Python 3",
   "language": "python",
   "name": "python3"
  },
  "language_info": {
   "codemirror_mode": {
    "name": "ipython",
    "version": 2
   },
   "file_extension": ".py",
   "mimetype": "text/x-python",
   "name": "python",
   "nbconvert_exporter": "python",
   "pygments_lexer": "ipython2",
   "version": "2.7.6"
  }
 },
 "nbformat": 4,
 "nbformat_minor": 5
}
