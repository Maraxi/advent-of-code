{
 "cells": [
  {
   "cell_type": "code",
   "source": [
    "from graphviz import Digraph\n",
    "from solution import *\n",
    "from helpers import *\n",
    "data = load(4)\n",
    "modules = parse(data)"
   ],
   "metadata": {
    "collapsed": false
   },
   "id": "9b0c846974b7232e",
   "outputs": [],
   "execution_count": null
  },
  {
   "cell_type": "code",
   "source": [
    "dot = Digraph()\n",
    "dot.node(\"broadcaster\")\n",
    "for l in [\n",
    "    [\"cm\", \"fh\", \"jj\", \"lp\", \"cz\", \"nb\", \"dr\", \"qc\", \"tf\", \"xl\", \"gq\", \"lc\"],\n",
    "    [\"db\", \"ml\", \"bn\", \"hk\", \"rs\", \"hh\", \"rg\", \"hr\", \"kf\", \"xx\", \"ff\", \"ql\"],\n",
    "    [\"hd\", \"zl\", \"qn\", \"fn\", \"hn\", \"tt\", \"bd\", \"fd\", \"hm\", \"fq\", \"zk\", \"sf\"],\n",
    "    [\"xf\", \"mb\", \"bq\", \"tj\", \"qd\", \"dg\", \"vm\", \"gm\", \"qs\", \"jf\", \"dn\", \"rb\"]\n",
    "]:\n",
    "    with dot.subgraph() as s:\n",
    "        s.attr(rank=\"same\")\n",
    "        for n in l:\n",
    "            s.node(n)\n",
    "for name , stuff in modules.items():\n",
    "    dot.node(name, stuff[0]+name)\n",
    "    for t in stuff[1]:\n",
    "        dot.edge(name, t)\n",
    "dot.render(view=True)\n",
    "dot"
   ],
   "metadata": {
    "collapsed": false
   },
   "id": "7961b1e370b55468",
   "outputs": [],
   "execution_count": null
  }
 ],
 "metadata": {
  "kernelspec": {
   "display_name": "Python 3",
   "language": "python",
   "name": "python3"
  },
  "language_info": {
   "codemirror_mode": {
    "name": "ipython",
    "version": 2
   },
   "file_extension": ".py",
   "mimetype": "text/x-python",
   "name": "python",
   "nbconvert_exporter": "python",
   "pygments_lexer": "ipython2",
   "version": "2.7.6"
  }
 },
 "nbformat": 4,
 "nbformat_minor": 5
}
